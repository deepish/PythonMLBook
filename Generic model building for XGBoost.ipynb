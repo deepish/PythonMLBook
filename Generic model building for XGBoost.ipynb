{
 "cells": [
  {
   "cell_type": "code",
   "execution_count": 1,
   "metadata": {
    "collapsed": true
   },
   "outputs": [],
   "source": [
    "import pandas as pd\n",
    "import numpy as np\n",
    "\n",
    "import xgboost as xgb\n",
    "from xgboost.sklearn import XGBClassifier\n",
    "from sklearn import cross_validation, metrics\n",
    "from sklearn.grid_search import GridSearchCV\n",
    "\n",
    "%matplotlib inline\n",
    "import matplotlib.pyplot as plt\n",
    "import seaborn as sns"
   ]
  },
  {
   "cell_type": "code",
   "execution_count": null,
   "metadata": {
    "collapsed": true
   },
   "outputs": [],
   "source": [
    "trainDF = pd.read_csv('data/Train_psolI3n.csv')\n",
    "testDF = pd.read_csv('data/Test_09JmpYa.csv')\n",
    "\n",
    "# Get the id and target variable\n",
    "target = trainDF['Email_Status']\n",
    "emailids = testDF['id']\n",
    "\n",
    "#Do the tagging for train and test\n",
    "trainDF['tag'] = 'train'\n",
    "testDF['tag'] = 'test'\n",
    "\n",
    "trainDF = trainDF.drop(['Email_ID','Email_Status'], axis=1)\n",
    "testDF = testDF.drop('Email_ID',axis=1)"
   ]
  },
  {
   "cell_type": "code",
   "execution_count": null,
   "metadata": {
    "collapsed": true
   },
   "outputs": [],
   "source": [
    "#Merge all the data for processing\n",
    "allDF = pd.concat([trainDF,testDF],ignore_index=True)"
   ]
  },
  {
   "cell_type": "code",
   "execution_count": null,
   "metadata": {
    "collapsed": true
   },
   "outputs": [],
   "source": [
    "#Do processing on each coloumn to fill the NA's\n",
    "\n",
    "#Check the correlation\n",
    "sns.heatmap(allDF.corr())"
   ]
  },
  {
   "cell_type": "code",
   "execution_count": null,
   "metadata": {
    "collapsed": true
   },
   "outputs": [],
   "source": [
    "#Split, train and test data\n",
    "X_train = allDF[allDF['tag'] == 'train'].drop('tag',axis=1)\n",
    "y_train = target\n",
    "X_test = allDF[allDF['tag'] == 'test'].drop('tag',axis=1)"
   ]
  },
  {
   "cell_type": "code",
   "execution_count": null,
   "metadata": {
    "collapsed": true
   },
   "outputs": [],
   "source": [
    "def modelfit(alg, X_train, y_train, useTrainCV=True, cv_folds=5, early_stopping_rounds=50):\n",
    "    \n",
    "    if useTrainCV:\n",
    "        xgb_param = alg.get_xgb_params()\n",
    "        #set num_class for multi class classification problem\n",
    "        xgb_param['num_class'] = 3\n",
    "        xgtrain = xgb.DMatrix(X_train.values, label=y_train.values)\n",
    "        cvresult = xgb.cv(xgb_param, xgtrain, num_boost_round=alg.get_params()['n_estimators'], nfold=cv_folds,\n",
    "                          metrics='merror', early_stopping_rounds=early_stopping_rounds, verbose_eval=1)\n",
    "        #print(cvresult)\n",
    "        alg.set_params(n_estimators=cvresult.shape[0])\n",
    "    \n",
    "    #Fit the algorithm on the data\n",
    "    alg.fit(X_train, y_train,eval_metric='merror')\n",
    "        \n",
    "    #Predict training set:\n",
    "    dtrain_predictions = alg.predict(X_train)\n",
    "        \n",
    "    #Print model report:\n",
    "    print(\"\\nModel Report\")\n",
    "    print(\"Accuracy : %.4g\" % metrics.accuracy_score(y_train.values, dtrain_predictions))\n",
    "    print(\"Confusion matrix:\")\n",
    "    print(metrics.confusion_matrix(y_train.values, dtrain_predictions,labels=[0,1,2]))\n",
    "    feat_imp = pd.Series(alg.booster().get_fscore()).sort_values(ascending=False)\n",
    "    feat_imp.plot(kind='bar', title='Feature Importances')\n",
    "    plt.ylabel('Feature Importance Score')"
   ]
  },
  {
   "cell_type": "code",
   "execution_count": null,
   "metadata": {
    "collapsed": true
   },
   "outputs": [],
   "source": [
    "g={'ne':500,'md':10,'mf':60,'rs':2016}\n",
    "xgc = XGBClassifier(n_estimators=g['ne'], max_depth=g['md'], seed=g['rs'],\n",
    "                    min_child_weight=4,\n",
    "                    learning_rate=0.01, subsample=0.9, colsample_bytree=0.85,objective='multi:softmax')\n",
    "\n",
    "modelfit(xgc,X_train,y_train)"
   ]
  }
 ],
 "metadata": {
  "kernelspec": {
   "display_name": "Python 3",
   "language": "python",
   "name": "python3"
  },
  "language_info": {
   "codemirror_mode": {
    "name": "ipython",
    "version": 3
   },
   "file_extension": ".py",
   "mimetype": "text/x-python",
   "name": "python",
   "nbconvert_exporter": "python",
   "pygments_lexer": "ipython3",
   "version": "3.5.1"
  }
 },
 "nbformat": 4,
 "nbformat_minor": 0
}
