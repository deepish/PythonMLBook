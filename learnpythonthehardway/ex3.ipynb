{
 "cells": [
  {
   "cell_type": "markdown",
   "metadata": {},
   "source": [
    "Python 3 has been used here\n",
    "\n",
    "http://learnpythonthehardway.org/book/ex3.html\n",
    "Numbers and Math"
   ]
  },
  {
   "cell_type": "code",
   "execution_count": 4,
   "metadata": {
    "collapsed": false
   },
   "outputs": [
    {
     "name": "stdout",
     "output_type": "stream",
     "text": [
      "I will now count my chickens:\n",
      "hens 28.333333333333332\n",
      "Roosters 97\n"
     ]
    }
   ],
   "source": [
    "print(\"I will now count my chickens:\")\n",
    "print(\"hens\", 25+20/6)\n",
    "print(\"Roosters\", 100-25*3%4)"
   ]
  },
  {
   "cell_type": "code",
   "execution_count": 6,
   "metadata": {
    "collapsed": false
   },
   "outputs": [
    {
     "name": "stdout",
     "output_type": "stream",
     "text": [
      "Now I will count the eggs\n",
      "6.75\n"
     ]
    }
   ],
   "source": [
    "print(\"Now I will count the eggs\")\n",
    "print(3 + 2 + 1 - 5 + 4 % 2 - 1 / 4 + 6)"
   ]
  },
  {
   "cell_type": "code",
   "execution_count": 9,
   "metadata": {
    "collapsed": false
   },
   "outputs": [
    {
     "name": "stdout",
     "output_type": "stream",
     "text": [
      "Is it true that 3 + 2 < 5 - 7?\n",
      "False\n"
     ]
    }
   ],
   "source": [
    "print(\"Is it true that 3 + 2 < 5 - 7?\")\n",
    "print(3 + 2 < 5 - 7)"
   ]
  },
  {
   "cell_type": "code",
   "execution_count": 12,
   "metadata": {
    "collapsed": false
   },
   "outputs": [
    {
     "name": "stdout",
     "output_type": "stream",
     "text": [
      "What is 3 + 2? 5\n",
      "What is 5 - 7? -2\n"
     ]
    }
   ],
   "source": [
    "print(\"What is 3 + 2?\", 3 + 2)\n",
    "print(\"What is 5 - 7?\", 5 - 7)"
   ]
  },
  {
   "cell_type": "code",
   "execution_count": 14,
   "metadata": {
    "collapsed": false
   },
   "outputs": [
    {
     "name": "stdout",
     "output_type": "stream",
     "text": [
      "Oh, that's why it's False.\n"
     ]
    }
   ],
   "source": [
    "print(\"Oh, that's why it's False.\")"
   ]
  },
  {
   "cell_type": "code",
   "execution_count": 16,
   "metadata": {
    "collapsed": false
   },
   "outputs": [
    {
     "name": "stdout",
     "output_type": "stream",
     "text": [
      "How about some more.\n"
     ]
    }
   ],
   "source": [
    "print(\"How about some more.\")"
   ]
  },
  {
   "cell_type": "code",
   "execution_count": 17,
   "metadata": {
    "collapsed": false
   },
   "outputs": [
    {
     "name": "stdout",
     "output_type": "stream",
     "text": [
      "Is it greater? True\n",
      "Is it greater or equal? True\n",
      "Is it less or equal? False\n"
     ]
    }
   ],
   "source": [
    "print(\"Is it greater?\", 5 > -2)\n",
    "print(\"Is it greater or equal?\", 5 >= -2)\n",
    "print(\"Is it less or equal?\", 5 <= -2)"
   ]
  }
 ],
 "metadata": {
  "kernelspec": {
   "display_name": "Python 3",
   "language": "python",
   "name": "python3"
  },
  "language_info": {
   "codemirror_mode": {
    "name": "ipython",
    "version": 3
   },
   "file_extension": ".py",
   "mimetype": "text/x-python",
   "name": "python",
   "nbconvert_exporter": "python",
   "pygments_lexer": "ipython3",
   "version": "3.5.1"
  }
 },
 "nbformat": 4,
 "nbformat_minor": 0
}
