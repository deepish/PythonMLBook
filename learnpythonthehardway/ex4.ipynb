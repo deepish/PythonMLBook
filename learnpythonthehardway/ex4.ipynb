{
 "cells": [
  {
   "cell_type": "markdown",
   "metadata": {},
   "source": [
    "Python 3 has been used here\n",
    "\n",
    "http://learnpythonthehardway.org/book/ex4.html\n",
    "Variables And Names"
   ]
  },
  {
   "cell_type": "code",
   "execution_count": 1,
   "metadata": {
    "collapsed": true
   },
   "outputs": [],
   "source": [
    "cars=100\n",
    "space_in_car = 4.0\n",
    "drivers = 30\n",
    "passengers =90\n",
    "cars_not_driven = cars - drivers\n",
    "cars_driven = drivers\n",
    "carpool_capacity = cars_driven * space_in_car\n",
    "average_passagers_per_car = passengers / cars_driven"
   ]
  },
  {
   "cell_type": "code",
   "execution_count": 2,
   "metadata": {
    "collapsed": false
   },
   "outputs": [
    {
     "name": "stdout",
     "output_type": "stream",
     "text": [
      "There are 100 cars available\n",
      "There are only 30 drivers available\n",
      "There will be 70 empty cars today\n",
      "We can transport 120.0 people today\n",
      "We have 90 to carpool today\n",
      "We need to put about 3 persons in each car\n"
     ]
    }
   ],
   "source": [
    "print(\"There are\",cars,\"cars available\")\n",
    "print(\"There are only\", drivers,\"drivers available\")\n",
    "print(\"There will be\",cars_not_driven,\"empty cars today\")\n",
    "print(\"We can transport\",carpool_capacity,\"people today\")\n",
    "print(\"We have\",passengers,\"to carpool today\")\n",
    "print(\"We need to put about\",round(average_passagers_per_car),\"persons in each car\")"
   ]
  }
 ],
 "metadata": {
  "kernelspec": {
   "display_name": "Python 3",
   "language": "python",
   "name": "python3"
  },
  "language_info": {
   "codemirror_mode": {
    "name": "ipython",
    "version": 3
   },
   "file_extension": ".py",
   "mimetype": "text/x-python",
   "name": "python",
   "nbconvert_exporter": "python",
   "pygments_lexer": "ipython3",
   "version": "3.5.1"
  }
 },
 "nbformat": 4,
 "nbformat_minor": 0
}
